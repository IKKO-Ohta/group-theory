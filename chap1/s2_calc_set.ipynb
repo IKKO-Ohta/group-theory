{
 "metadata": {
  "language_info": {
   "codemirror_mode": {
    "name": "ipython",
    "version": 3
   },
   "file_extension": ".py",
   "mimetype": "text/x-python",
   "name": "python",
   "nbconvert_exporter": "python",
   "pygments_lexer": "ipython3",
   "version": "3.8.5-final"
  },
  "orig_nbformat": 2,
  "kernelspec": {
   "name": "python3",
   "display_name": "Python 3",
   "language": "python"
  }
 },
 "nbformat": 4,
 "nbformat_minor": 2,
 "cells": [
  {
   "source": [
    "# 集合の演算\n",
    "\n",
    "集合は和・積の演算を持つ。\n",
    "- 和・積の演算は交換法則、分配法則、結合法則を利用できる。\n",
    "- ほとんどのプログラミング言語では、和を`|`、積を`&`で取る。\n"
   ],
   "cell_type": "markdown",
   "metadata": {}
  },
  {
   "source": [
    "### 問2.1 \n",
    "次の式が成り立つのを確かめよ。"
   ],
   "cell_type": "markdown",
   "metadata": {}
  },
  {
   "cell_type": "code",
   "execution_count": 1,
   "metadata": {},
   "outputs": [],
   "source": [
    "#どんなAでも一般性を失わない\n",
    "A = {1,2,3}\n",
    "phi = set()\n",
    "assert A | A == A\n",
    "assert A | phi == A\n",
    "assert A & phi == phi\n",
    "assert A - A == phi\n",
    "assert A - phi == A\n",
    "assert phi - A == phi"
   ]
  },
  {
   "source": [
    "## 問2.2\n",
    "ベン図を用いて示す。\n",
    "\n",
    "<img src=\"https://user-images.githubusercontent.com/27924055/104830986-a54daf00-58c7-11eb-9c23-ca43b62b6f18.jpg?s=10\" alt=\"Drawing\" style=\"width: 200px;\"/>\n",
    "\n",
    "\n",
    "## 問2.3\n",
    "ベン図を用いて示す。\n",
    "\n",
    "<img src=\"https://user-images.githubusercontent.com/27924055/104831020-0d9c9080-58c8-11eb-930f-4a39fc639ad9.jpg\" alt=\"Drawing\" style=\"width: 200px;\"/>\n",
    "\n",
    "\n"
   ],
   "cell_type": "markdown",
   "metadata": {}
  },
  {
   "source": [
    "## 問2.4\n",
    "`A - B = A`であることと、AとBが交わらないことは同値である。それは次の2点から説明できる。\n",
    "- `A - B = A`が成り立つとき、この演算によってAのelementは何も損なわれなかった。  \n",
    "すなわち、BにAと共通の元は存在しないということであり、AとBは交わらない。\n",
    "- AとBが交わらないとき、AとBには共通のelementが存在しない。だから、`A - B = A`となる。\n",
    "\n",
    "## 問2.5\n",
    "省略  \n",
    "A <= B のベン図を書くと、(条件) -> `A <= B`も `A <= B` -> (条件)も図示できる。 "
   ],
   "cell_type": "markdown",
   "metadata": {}
  },
  {
   "source": [
    "## 問 2.6\n",
    "\n",
    "(1)\n",
    "式変形\n",
    "\n",
    "<img src=\"https://user-images.githubusercontent.com/27924055/104834090-9a534880-58e0-11eb-9e94-7608ef731efa.jpg\" alt=\"Drawing\" style=\"width: 200px;\"/>\n",
    "\n",
    "\n",
    "(2)\n",
    "\n",
    "三行目と四行目の変形に気を付ける。ネストが深すぎて可読性が悪い。インデントをつけるとわかる。\n",
    "- 次の項を分配法則で開く。\n",
    "```\n",
    "(\n",
    "    (A ∩ B) ∪ \n",
    "    (A ∩ C) ∪ \n",
    "    (B ∩ C)\n",
    ")\n",
    "```\n",
    "\n",
    "- ちなみに[解答PDF](https://www.shokabo.co.jp/author/1401/answer/Q2.6.pdf)もネストを間違えている（最終行で閉じカッコが一つ多い）。\n"
   ],
   "cell_type": "markdown",
   "metadata": {}
  },
  {
   "cell_type": "code",
   "execution_count": 3,
   "metadata": {},
   "outputs": [
    {
     "output_type": "stream",
     "name": "stdout",
     "text": [
      "(A ∪ B) ∩ (A ∪ C) ∩ (A ∪ D) ∩ (B ∪ C) ∩ (B ∪ D) ∩ (C ∪ D)\n\n=(\n    (A ∩ B) ∪ (A ∩ C) ∪ (B ∩ C)\n) \n∩ \n(\n    (A ∪ D) ∩ (B ∪ D) ∩ (C ∪ D)\n)\n\n\b=(\n    (A ∩ B) ∪ \n    (A ∩ C) ∪ \n    (B ∩ C)\n)\n∩ \n(\n    (A ∩ B ∩ C) ∪ D\n)\n\n= (\n    (\n        (A ∩ B) ∪ \n        (A ∩ C) ∪ \n        (B ∩ C)\n    ) \n    ∩ \n    (\n        A ∩ B ∩ C\n    )\n) \n∪ \n(\n    (\n        (A ∩ B) ∪ \n        (A ∩ C) ∪ \n        (B ∩ C)\n    ) \n    ∩ D\n)\n\n= (A ∩ B ∩ C)) ∪ (A ∩ B ∩ D) ∪ (A ∩ C ∩ D) ∪ (A ∩ C ∩ D) ∪ (B ∩ C ∩ D)\n"
     ]
    }
   ],
   "source": [
    "## 1行目\n",
    "print(\"(A ∪ B) ∩ (A ∪ C) ∩ (A ∪ D) ∩ (B ∪ C) ∩ (B ∪ D) ∩ (C ∪ D)\")\n",
    "## 2行目\n",
    "print(\"\"\"\n",
    "=(\n",
    "    (A ∩ B) ∪ (A ∩ C) ∪ (B ∩ C)\n",
    ") \n",
    "∩ \n",
    "(\n",
    "    (A ∪ D) ∩ (B ∪ D) ∩ (C ∪ D)\n",
    ")\"\"\"\n",
    ")\n",
    "## 3行目\n",
    "print(\"\"\"\n",
    "\b=(\n",
    "    (A ∩ B) ∪ \n",
    "    (A ∩ C) ∪ \n",
    "    (B ∩ C)\n",
    ")\n",
    "∩ \n",
    "(\n",
    "    (A ∩ B ∩ C) ∪ D\n",
    ")\"\"\"\n",
    ")\n",
    "## 4行目\n",
    "## 四行目\n",
    "print(\"\"\"\n",
    "= (\n",
    "    (\n",
    "        (A ∩ B) ∪ \n",
    "        (A ∩ C) ∪ \n",
    "        (B ∩ C)\n",
    "    ) \n",
    "    ∩ \n",
    "    (\n",
    "        A ∩ B ∩ C\n",
    "    )\n",
    ") \n",
    "∪ \n",
    "(\n",
    "    (\n",
    "        (A ∩ B) ∪ \n",
    "        (A ∩ C) ∪ \n",
    "        (B ∩ C)\n",
    "    ) \n",
    "    ∩ D\n",
    ")\n",
    "\"\"\")\n",
    "## 結論\n",
    "print(\"= (A ∩ B ∩ C) ∪ (A ∩ B ∩ D) ∪ (A ∩ C ∩ D) ∪ (A ∩ C ∩ D) ∪ (B ∩ C ∩ D)\")\n",
    "\n"
   ]
  },
  {
   "cell_type": "code",
   "execution_count": null,
   "metadata": {},
   "outputs": [],
   "source": []
  }
 ]
}