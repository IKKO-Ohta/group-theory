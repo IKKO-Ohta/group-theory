{
 "metadata": {
  "language_info": {
   "codemirror_mode": {
    "name": "ipython",
    "version": 3
   },
   "file_extension": ".py",
   "mimetype": "text/x-python",
   "name": "python",
   "nbconvert_exporter": "python",
   "pygments_lexer": "ipython3",
   "version": "3.8.5-final"
  },
  "orig_nbformat": 2,
  "kernelspec": {
   "name": "python3",
   "display_name": "Python 3",
   "language": "python"
  }
 },
 "nbformat": 4,
 "nbformat_minor": 2,
 "cells": [
  {
   "source": [
    "# 1. 集合と写像\n"
   ],
   "cell_type": "markdown",
   "metadata": {}
  },
  {
   "source": [
    "## 集合について\n",
    "集合は何かしらのオブジェクトの集まりである。\n",
    "- 集合を構成する一つ一つを元/elementと呼ぶ。element同士はユニークである。\n",
    "- AのどのelementもBに含まれるとき、AはBの部分集合であるという。\n",
    "\n",
    "日本語と数学表記とコンピュータ上の表記（例はPython）は次のように対応する。\n",
    "\n",
    "|日本語|数学記号|Python|\n",
    "|-----|-----|-----|\n",
    "|集合Aの要素は1,2,3である|{1,2,3}|`{1,2,3}`|\n",
    "|集合Aは要素aを含む|a ∈ A|`a in A`|\n",
    "|集合Aと集合Bが等しい|a = b|`A == B`|\n",
    "|集合Aは集合Bの部分集合である|A ⊂ B|`A <= B`|\n",
    "\n",
    "**NOTE**: \n",
    "\n",
    "部分集合演算 `⊂/<`は、Pythonと数学記号で少し異なる挙動をする。  \n",
    "数学記号`⊂`においてはAはA自身の常に部分集合とするが（`A ⊂ A`は真）だが、Pythonの`<`では自身を部分集合としない（`A < A`は偽）。  \n",
    "数学記号と同じように自身を部分集合として含ませるには、`A <= A`と書く。\n",
    "\n",
    "\n",
    "### 集合の表し方\n",
    "\n",
    "非常に多くの要素をもつ集合を書くのに、明示的に書き下すやり方は都合が悪い。そこで次のように書く。  \n",
    "- ある条件Pについて、`{x|xはPを満たす}`\n",
    "\n",
    "長さが0の集合を空集合、有限個であるものを有限集合、無限個であるものを無限集合と呼ぶ。  \n",
    "特によく使われるいくつかの無限集合とその略記がある。\n",
    "\n",
    "|記号|意味|\n",
    "|---|---|\n",
    "|N|自然数|\n",
    "|Z|整数|\n",
    "|Q|有理数|\n",
    "|R|実数|\n",
    "|S|複素数|\n",
    "\n",
    "\n",
    "\n",
    "\n"
   ],
   "cell_type": "markdown",
   "metadata": {}
  },
  {
   "source": [
    "### 1.1 次式はなりたつか（真偽を求めよ）。"
   ],
   "cell_type": "markdown",
   "metadata": {}
  },
  {
   "cell_type": "code",
   "execution_count": 50,
   "metadata": {},
   "outputs": [
    {
     "output_type": "stream",
     "name": "stdout",
     "text": [
      "True\nTrue\nTrue\nFalse\nFalse\nFalse\nTrue\nTrue\nFalse\nFalse\n"
     ]
    }
   ],
   "source": [
    "X = {1,2,3}\n",
    "Y = {1,2}\n",
    "Z = {1,2,4}\n",
    "V = {4}\n",
    "W = {3,4}\n",
    "\n",
    "## (1)\n",
    "print(Y <= X)\n",
    "## (2)\n",
    "print(W != Z)\n",
    "## (3)\n",
    "print(not(V <= Y))\n",
    "## (4)\n",
    "print(V <= X)\n",
    "## (5)\n",
    "print(X == W)\n",
    "## (6)\n",
    "print(not(W >= V))\n",
    "## (7)\n",
    "print(Z >= V)\n",
    "## (8)\n",
    "print(not(Z >= X))\n",
    "## (9)\n",
    "print(not(Y <= Z))\n",
    "## (10)\n",
    "print(W <= Y)"
   ]
  },
  {
   "source": [
    "### 問1.2\n",
    "式を満足する集合Xを、A~Fのなかから全て求めよ。"
   ],
   "cell_type": "markdown",
   "metadata": {}
  },
  {
   "cell_type": "code",
   "execution_count": 51,
   "metadata": {},
   "outputs": [
    {
     "output_type": "stream",
     "name": "stdout",
     "text": [
      "['D']\n['B']\n['C', 'E', 'F']\n['B', 'D']\n"
     ]
    }
   ],
   "source": [
    "A = {1,2,3,4,5,6}\n",
    "B = {4,5,6,7,8,9}\n",
    "C = {2,4,8,9}\n",
    "D = {4,5}\n",
    "E = {2,4}\n",
    "F = {2}\n",
    "\n",
    "mapping = {0:\"A\", 1:\"B\", 2:\"C\", 3:\"D\", 4:\"E\", 5:\"F\"}\n",
    "from typing import Callable, Set\n",
    "def print_ans(func: Callable[[Set], bool]) -> None:\n",
    "    ans = []\n",
    "    for i, X in enumerate([A,B,C,D,E,F]):\n",
    "        if func(X):\n",
    "            ans.append(mapping[i])\n",
    "    print(ans)\n",
    "\n",
    "## (1)\n",
    "print_ans(lambda X: X <= A and X <= B)\n",
    "\n",
    "## (2)\n",
    "print_ans(lambda X: not(X <= A) and not(X <= C))\n",
    "\n",
    "## (3)\n",
    "print_ans(lambda X: not(X <= B) and X <= C)\n",
    "\n",
    "## (4)\n",
    "print_ans(lambda X: X <= B and not(X <= C))"
   ]
  },
  {
   "source": [
    "### 問1.3 \n",
    "集合A `{2, 4, {4,5}}`について、次の式は成り立つか（真偽値を求めよ）。\n",
    "\n",
    "- set in setには`frozenset`を用いる。"
   ],
   "cell_type": "markdown",
   "metadata": {}
  },
  {
   "cell_type": "code",
   "execution_count": 53,
   "metadata": {},
   "outputs": [
    {
     "output_type": "stream",
     "name": "stdout",
     "text": [
      "False\nTrue\nTrue\nTrue\nFalse\nTrue\n"
     ]
    }
   ],
   "source": [
    "A = {2, 4, frozenset([4,5])}\n",
    "## (1)\n",
    "print({4,5} <= A)\n",
    "## (2)\n",
    "print({4,5} in A)\n",
    "## (3)\n",
    "print({frozenset([4,5])} <= A)\n",
    "## (4)\n",
    "print(not(5 in A))\n",
    "## (5)\n",
    "print({5} in A)\n",
    "## (6)\n",
    "print({4} <= A)"
   ]
  },
  {
   "source": [
    "### 問 1.5\n",
    "\n",
    "##### 一般にn個の元から成る集合の部分集合は全部で2^n個あることを示せ。\n",
    "\n",
    "全ての元の要素について、それを部分集合に含む場合と含まない場合がある。  \n",
    "元はn個存在するので、作り得る部分集合は2^n通りとなる。"
   ],
   "cell_type": "markdown",
   "metadata": {}
  }
 ]
}